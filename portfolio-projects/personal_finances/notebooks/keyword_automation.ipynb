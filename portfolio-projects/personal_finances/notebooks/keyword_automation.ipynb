{
 "cells": [
  {
   "cell_type": "code",
   "execution_count": 1,
   "id": "8944d08f-b8bb-40ad-869d-cb5817778435",
   "metadata": {},
   "outputs": [],
   "source": [
    "import pandas as pd\n",
    "import numpy as np\n",
    "import re\n",
    "import Levenshtein\n",
    "from datetime import datetime\n",
    "from thefuzz import process\n",
    "import os\n",
    "import yaml\n",
    "from utils import *"
   ]
  },
  {
   "cell_type": "markdown",
   "id": "5794dad0-60a5-4cd5-a71c-53ea081aef4a",
   "metadata": {},
   "source": [
    "## Import Data `transactions` and `categories`"
   ]
  },
  {
   "cell_type": "code",
   "execution_count": 2,
   "id": "00f9c6fd-f87a-4cb9-a841-cf29df965b24",
   "metadata": {},
   "outputs": [],
   "source": [
    "# Load the transactions csv file\n",
    "transactions_df = import_transactions('dataset_transactions') # Insert the name of the CSV file here. For the path, see utils.py\n",
    "\n",
    "# Load categories .yaml file and parse the structure\n",
    "categories = parse_categories()"
   ]
  },
  {
   "cell_type": "markdown",
   "id": "63320795-6d8a-499c-83a2-058f1a02f3da",
   "metadata": {},
   "source": [
    "## Preprocess the `description` field and Run the Primary Match "
   ]
  },
  {
   "cell_type": "code",
   "execution_count": 3,
   "id": "424e83ac-a48a-46c1-b461-2c9774ff6a7b",
   "metadata": {},
   "outputs": [],
   "source": [
    "# clean descriptions\n",
    "transactions_df['string_keywords'] = preprocess_desc(transactions_df)\n",
    "\n",
    "# Apply the primary match\n",
    "finance_data_score_df = primary_match(categories['key'], transactions_df['string_keywords'], transactions_df)"
   ]
  },
  {
   "cell_type": "markdown",
   "id": "11ecd783-450d-4110-95b1-5e4910ceb197",
   "metadata": {},
   "source": [
    "## Sequence the `description` and Run the Secondary Match"
   ]
  },
  {
   "cell_type": "code",
   "execution_count": 4,
   "id": "7c238fb3-487b-4c6a-b398-afd9c7d596bb",
   "metadata": {},
   "outputs": [],
   "source": [
    "# Preprocess the descriptions' strings to form a list of single words\n",
    "dataset_keywords = sequence_keywords(transactions_df['string_keywords'])\n",
    "\n",
    "# Apply the secondary match\n",
    "finance_matches_df = secondary_match(categories['key'], dataset_keywords, finance_data_score_df)"
   ]
  },
  {
   "cell_type": "markdown",
   "id": "a3d72ef6-b4e9-4752-8f2b-e95188760aea",
   "metadata": {},
   "source": [
    "## Compute the `Categorisation Logic`"
   ]
  },
  {
   "cell_type": "code",
   "execution_count": 5,
   "id": "ed6d9c58-3531-4e33-8503-beb536cbbec1",
   "metadata": {},
   "outputs": [],
   "source": [
    "# Apply the categorisation logic\n",
    "finance_matches_df['key_final'] = finance_matches_df.apply(categorisation_logic, axis=1)\n",
    "\n",
    "# From the chosen keywords, select the brand and category \n",
    "categories_unique = categories.drop_duplicates(subset='key', keep='first')\n",
    "transactions_categorised_df = pd.merge(finance_matches_df, categories_unique, how='left', left_on='key_final', right_on='key')"
   ]
  },
  {
   "cell_type": "markdown",
   "id": "6980d9f7-e3d7-4598-a1b1-3a21fd63d7bc",
   "metadata": {},
   "source": [
    "## Filter for Unassigned categories and save to CSV"
   ]
  },
  {
   "cell_type": "code",
   "execution_count": 6,
   "id": "6f08870b-cb2d-4219-ab44-07261e0aecc6",
   "metadata": {},
   "outputs": [],
   "source": [
    "# Filter unassigned categories\n",
    "unassigned_cat = filter_unassigned(transactions_categorised_df)\n",
    "\n",
    "# save the unassigned categories dataset as csv\n",
    "file_path = os.path.join('..', 'datasets', 'unassigned_cat_output.csv')\n",
    "unassigned_cat.to_csv(file_path)"
   ]
  },
  {
   "cell_type": "markdown",
   "id": "7d2fd860-57f8-4aa5-8c8e-0ce7c5fdb1c7",
   "metadata": {},
   "source": [
    "## Save the `Categorised Transaction` data to CSV"
   ]
  },
  {
   "cell_type": "code",
   "execution_count": 7,
   "id": "0a303e06-1acb-475f-978f-f84580767048",
   "metadata": {},
   "outputs": [
    {
     "name": "stdout",
     "output_type": "stream",
     "text": [
      "Input transaction dataset contains 2020 lines\n",
      "Output categorised dataset contains 2020\n",
      "There are 15 unassigned categories\n"
     ]
    }
   ],
   "source": [
    "# save the file as csv\n",
    "file_path = os.path.join('..', 'datasets', 'finance_matches_df_output.csv')\n",
    "transactions_categorised_df.to_csv(file_path)\n",
    "\n",
    "# preview how many rows were in the initial and final datasets and how amny unassigned categories there are to work on\n",
    "count_unassigned = len(unassigned_cat)\n",
    "count_transactions_categorised = len(transactions_categorised_df)\n",
    "\n",
    "print(f'Input transaction dataset contains {len(transactions_df)} lines')\n",
    "print(f'Output categorised dataset contains {count_transactions_categorised}')\n",
    "print(f'There are {count_unassigned} unassigned categories')"
   ]
  },
  {
   "cell_type": "markdown",
   "id": "bcf03ad9-c967-4877-b05e-95f11a92fb59",
   "metadata": {},
   "source": [
    "## Pivot and Visualise the data"
   ]
  },
  {
   "cell_type": "code",
   "execution_count": 9,
   "id": "bc7de4b4-1b8e-4a5f-b4ea-1ae955ca92a0",
   "metadata": {},
   "outputs": [
    {
     "data": {
      "text/html": [
       "<div>\n",
       "<style scoped>\n",
       "    .dataframe tbody tr th:only-of-type {\n",
       "        vertical-align: middle;\n",
       "    }\n",
       "\n",
       "    .dataframe tbody tr th {\n",
       "        vertical-align: top;\n",
       "    }\n",
       "\n",
       "    .dataframe thead th {\n",
       "        text-align: right;\n",
       "    }\n",
       "</style>\n",
       "<table border=\"1\" class=\"dataframe\">\n",
       "  <thead>\n",
       "    <tr style=\"text-align: right;\">\n",
       "      <th></th>\n",
       "      <th>euro value</th>\n",
       "    </tr>\n",
       "    <tr>\n",
       "      <th>category</th>\n",
       "      <th></th>\n",
       "    </tr>\n",
       "  </thead>\n",
       "  <tbody>\n",
       "    <tr>\n",
       "      <th>1. house</th>\n",
       "      <td>-31337.48</td>\n",
       "    </tr>\n",
       "    <tr>\n",
       "      <th>2. shopping</th>\n",
       "      <td>-14764.38</td>\n",
       "    </tr>\n",
       "    <tr>\n",
       "      <th>3. food</th>\n",
       "      <td>-14521.29</td>\n",
       "    </tr>\n",
       "    <tr>\n",
       "      <th>4. services</th>\n",
       "      <td>-9516.33</td>\n",
       "    </tr>\n",
       "    <tr>\n",
       "      <th>5. transport</th>\n",
       "      <td>-9213.78</td>\n",
       "    </tr>\n",
       "    <tr>\n",
       "      <th>6. leisure</th>\n",
       "      <td>-12503.96</td>\n",
       "    </tr>\n",
       "    <tr>\n",
       "      <th>7. other</th>\n",
       "      <td>-10826.94</td>\n",
       "    </tr>\n",
       "    <tr>\n",
       "      <th>NaN</th>\n",
       "      <td>-529.90</td>\n",
       "    </tr>\n",
       "  </tbody>\n",
       "</table>\n",
       "</div>"
      ],
      "text/plain": [
       "              euro value\n",
       "category                \n",
       "1. house       -31337.48\n",
       "2. shopping    -14764.38\n",
       "3. food        -14521.29\n",
       "4. services     -9516.33\n",
       "5. transport    -9213.78\n",
       "6. leisure     -12503.96\n",
       "7. other       -10826.94\n",
       "NaN              -529.90"
      ]
     },
     "execution_count": 9,
     "metadata": {},
     "output_type": "execute_result"
    }
   ],
   "source": [
    "pivot = transactions_categorised_df.pivot_table(index='category', values='euro value', aggfunc='sum', dropna=False)\n",
    "pivot"
   ]
  },
  {
   "cell_type": "code",
   "execution_count": null,
   "id": "79163903-ad78-456a-8daf-61cff1bdd35f",
   "metadata": {},
   "outputs": [],
   "source": []
  }
 ],
 "metadata": {
  "kernelspec": {
   "display_name": "Python 3 (ipykernel)",
   "language": "python",
   "name": "python3"
  },
  "language_info": {
   "codemirror_mode": {
    "name": "ipython",
    "version": 3
   },
   "file_extension": ".py",
   "mimetype": "text/x-python",
   "name": "python",
   "nbconvert_exporter": "python",
   "pygments_lexer": "ipython3",
   "version": "3.13.0"
  }
 },
 "nbformat": 4,
 "nbformat_minor": 5
}
