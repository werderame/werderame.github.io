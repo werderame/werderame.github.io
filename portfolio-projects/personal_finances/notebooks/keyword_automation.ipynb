{
 "cells": [
  {
   "cell_type": "code",
   "execution_count": 17,
   "id": "8944d08f-b8bb-40ad-869d-cb5817778435",
   "metadata": {},
   "outputs": [],
   "source": [
    "import pandas as pd\n",
    "import numpy as np\n",
    "import re\n",
    "import Levenshtein\n",
    "from datetime import datetime\n",
    "from thefuzz import process\n",
    "import os\n",
    "import yaml"
   ]
  },
  {
   "cell_type": "code",
   "execution_count": 18,
   "id": "fca80dc3-5963-4086-a3de-38ca71063c70",
   "metadata": {},
   "outputs": [
    {
     "name": "stdout",
     "output_type": "stream",
     "text": [
      "The autoreload extension is already loaded. To reload it, use:\n",
      "  %reload_ext autoreload\n"
     ]
    }
   ],
   "source": [
    "%load_ext autoreload"
   ]
  },
  {
   "cell_type": "code",
   "execution_count": 19,
   "id": "a612d361-ee8a-47a8-a89e-7a6edec67c08",
   "metadata": {},
   "outputs": [],
   "source": [
    "%autoreload 2"
   ]
  },
  {
   "cell_type": "code",
   "execution_count": 20,
   "id": "71913b6c-ea6d-4acf-986a-c98bea364129",
   "metadata": {},
   "outputs": [
    {
     "name": "stdout",
     "output_type": "stream",
     "text": [
      "['Levenshtein', '__builtins__', '__cached__', '__doc__', '__file__', '__loader__', '__name__', '__package__', '__spec__', 'categorisation_logic', 'import_transactions', 'load_categories', 'os', 'pd', 'preprocess_desc', 'primary_match', 'process', 'secondary_match', 'sequence_keywords', 'spaceless_strings', 'yaml']\n"
     ]
    }
   ],
   "source": [
    "from utils import *\n",
    "import utils\n",
    "print(dir(utils))"
   ]
  },
  {
   "cell_type": "code",
   "execution_count": 21,
   "id": "3258794d-b19d-49eb-bfa6-371cf1d66eaf",
   "metadata": {},
   "outputs": [],
   "source": [
    "transactions_df = import_transactions()\n",
    "# transactions_df.info()"
   ]
  },
  {
   "cell_type": "code",
   "execution_count": 22,
   "id": "e380ccb4-31e6-4df8-9b96-06e93da27cd1",
   "metadata": {},
   "outputs": [],
   "source": [
    "# clean descriptions\n",
    "transactions_df['string_keywords'] = preprocess_desc(transactions_df)\n",
    "# display(transactions_df['string_keywords'].head())"
   ]
  },
  {
   "cell_type": "code",
   "execution_count": 23,
   "id": "38651006-d956-42ce-92e9-72e5ca01b4df",
   "metadata": {},
   "outputs": [],
   "source": [
    "# load categories\n",
    "categories = load_categories()\n",
    "# display(categories.tail())"
   ]
  },
  {
   "cell_type": "code",
   "execution_count": 24,
   "id": "fa3e5f0d-19ad-4394-b998-2eba37a6cd3e",
   "metadata": {},
   "outputs": [],
   "source": [
    "# write the best match for each keyword\n",
    "best_matches = primary_match(categories['brand'], transactions_df['string_keywords'])\n",
    "finance_data_score_df = pd.merge(transactions_df, best_matches, how='inner', right_index=True, left_on='string_keywords')\n",
    "# display(finance_data_score_df.head())"
   ]
  },
  {
   "cell_type": "code",
   "execution_count": 25,
   "id": "a50e39fb-5d7b-4d3a-a00d-c2d3c9c5d3a6",
   "metadata": {},
   "outputs": [],
   "source": [
    "dataset_keywords = sequence_keywords(transactions_df['string_keywords'])\n",
    "# display(dataset_keywords.head())"
   ]
  },
  {
   "cell_type": "code",
   "execution_count": 26,
   "id": "11e406ba-e8b6-4ce2-96a9-8270a0431e20",
   "metadata": {},
   "outputs": [],
   "source": [
    "best_word_match_df = secondary_match(categories['brand'], dataset_keywords)\n",
    "\n",
    "finance_matches_df = pd.merge(\n",
    "    finance_data_score_df, \n",
    "    best_word_match_df, \n",
    "    how='inner', \n",
    "    left_index=True, \n",
    "    right_on='description_index'\n",
    ")\n",
    "finance_matches_df.drop('description_index', axis=1, inplace=True)\n",
    "finance_matches_df.loc[finance_matches_df['string_match_brand'] == finance_matches_df['word_match_brand'], 'methods_match'] = True"
   ]
  },
  {
   "cell_type": "code",
   "execution_count": 27,
   "id": "f781fbf9-7941-4c2f-938e-27b6222a535a",
   "metadata": {},
   "outputs": [],
   "source": [
    "finance_matches_df['brand_final'] = finance_matches_df.apply(categorisation_logic, axis=1)"
   ]
  },
  {
   "cell_type": "code",
   "execution_count": 30,
   "id": "b5a4ab36-ad01-4f1c-afda-c882188f6068",
   "metadata": {},
   "outputs": [],
   "source": [
    "# display(finance_matches_df.head())"
   ]
  },
  {
   "cell_type": "code",
   "execution_count": 29,
   "id": "0a303e06-1acb-475f-978f-f84580767048",
   "metadata": {},
   "outputs": [],
   "source": [
    "file_path = os.path.join('..', 'datasets', 'finance_matches_df_output.csv')\n",
    "finance_matches_df.to_csv(file_path)"
   ]
  },
  {
   "cell_type": "code",
   "execution_count": null,
   "id": "7e588daa-58b0-427a-a439-bb0e8a7e5767",
   "metadata": {},
   "outputs": [],
   "source": []
  }
 ],
 "metadata": {
  "kernelspec": {
   "display_name": "Python 3 (ipykernel)",
   "language": "python",
   "name": "python3"
  },
  "language_info": {
   "codemirror_mode": {
    "name": "ipython",
    "version": 3
   },
   "file_extension": ".py",
   "mimetype": "text/x-python",
   "name": "python",
   "nbconvert_exporter": "python",
   "pygments_lexer": "ipython3",
   "version": "3.13.0"
  }
 },
 "nbformat": 4,
 "nbformat_minor": 5
}
