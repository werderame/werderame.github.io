{
 "cells": [
  {
   "cell_type": "markdown",
   "metadata": {
    "application/vnd.databricks.v1+cell": {
     "cellMetadata": {
      "byteLimit": 2048000,
      "rowLimit": 10000
     },
     "inputWidgets": {},
     "nuid": "f8be1df1-ae7c-49e9-a341-dbf4734910b8",
     "showTitle": false,
     "title": ""
    }
   },
   "source": [
    "# Waste Projection workflow"
   ]
  },
  {
   "cell_type": "code",
   "execution_count": 18,
   "metadata": {
    "application/vnd.databricks.v1+cell": {
     "cellMetadata": {
      "byteLimit": 2048000,
      "rowLimit": 10000
     },
     "inputWidgets": {},
     "nuid": "cea0c654-74d1-4908-ae14-1f9a71566339",
     "showTitle": false,
     "title": ""
    }
   },
   "outputs": [],
   "source": [
    "# Import Libraries\n",
    "import pandas as pd\n",
    "import sqlite3\n",
    "import utils\n",
    "import importlib\n",
    "importlib.reload(utils)\n",
    "from utils import calculate_fefo"
   ]
  },
  {
   "cell_type": "markdown",
   "metadata": {},
   "source": [
    "# Extract"
   ]
  },
  {
   "cell_type": "code",
   "execution_count": 19,
   "metadata": {},
   "outputs": [
    {
     "name": "stdout",
     "output_type": "stream",
     "text": [
      "Loaded 'forecast_df' with 61111 lines\n",
      "Loaded 'full_stock_df' with 16191 lines\n",
      "Loaded 'exclusion_df' with 49 lines\n"
     ]
    }
   ],
   "source": [
    "# Specify the database file to delete\n",
    "database_name = 'hf_database.db'\n",
    "\n",
    "# Create a SQLite database and a connection\n",
    "conn = sqlite3.connect(database_name)\n",
    "\n",
    "# ---- Load demand data in a dataframe # forecast_df\n",
    "file_path = '/Users/fil/Documents/my_projects/hf_fefo_waste_projection/datasets/forecast_df_2024_11_20.csv'\n",
    "forecast_df = pd.read_csv(file_path) # Execute the query and load the result into a pandas DataFrame\n",
    "\n",
    "\n",
    "# ---- Load Inventory Data in a dataframe # full_stock_df\n",
    "file_path = '/Users/fil/Documents/my_projects/hf_fefo_waste_projection/datasets/full_stock_df_2024_11_20.csv'\n",
    "full_stock_df = pd.read_csv(file_path)\n",
    "\n",
    "\n",
    "# ---- Load Exclusion List in a dataframe # exclusion_df\n",
    "file_path = '/Users/fil/Documents/my_projects/hf_fefo_waste_projection/datasets/exclusion_df_2024_11_20.csv'\n",
    "exclusion_df = pd.read_csv(file_path)\n",
    "\n",
    "# Close the connection\n",
    "conn.close()\n",
    "\n",
    "# Print an output for verification\n",
    "print(\"Loaded 'forecast_df' with \" + str(len(forecast_df)) + \" lines\") # 61.111 lines\n",
    "print(\"Loaded 'full_stock_df' with \" + str(len(full_stock_df)) + \" lines\") # 16.191 lines\n",
    "print(\"Loaded 'exclusion_df' with \" + str(len(exclusion_df)) + \" lines\") # 50 lines"
   ]
  },
  {
   "cell_type": "markdown",
   "metadata": {},
   "source": [
    "## Clean Inventory Data by Filtering Out the Eclusion List | # merged = full stock | # cleaned = stock"
   ]
  },
  {
   "cell_type": "code",
   "execution_count": 20,
   "metadata": {
    "application/vnd.databricks.v1+cell": {
     "cellMetadata": {
      "byteLimit": 2048000,
      "rowLimit": 10000
     },
     "collapsed": true,
     "inputWidgets": {},
     "nuid": "ac9fb360-2dd7-4634-9c4a-9c9e61e37168",
     "showTitle": false,
     "title": ""
    }
   },
   "outputs": [],
   "source": [
    "# Merge the inventory list and the exclusion list\n",
    "merged_inventory_df = full_stock_df.merge(exclusion_df, on=['sku_code', 'supplier_code', 'data_source'], how='left', indicator=True)\n",
    "\n",
    "# Filter out: from the _merge column keep only values that do not appear in the right (exclusion) table\n",
    "stock_df = merged_inventory_df[merged_inventory_df['_merge'] == 'left_only'].drop(columns='_merge')"
   ]
  },
  {
   "cell_type": "markdown",
   "metadata": {},
   "source": [
    "# Transform"
   ]
  },
  {
   "cell_type": "markdown",
   "metadata": {
    "application/vnd.databricks.v1+cell": {
     "cellMetadata": {
      "byteLimit": 2048000,
      "rowLimit": 10000
     },
     "inputWidgets": {},
     "nuid": "e24cc8ce-6643-4a0c-a0bb-2577e5ddd771",
     "showTitle": false,
     "title": ""
    }
   },
   "source": [
    "## Run the Calculation of FEFO"
   ]
  },
  {
   "cell_type": "code",
   "execution_count": 21,
   "metadata": {
    "application/vnd.databricks.v1+cell": {
     "cellMetadata": {
      "byteLimit": 2048000,
      "rowLimit": 10000
     },
     "collapsed": true,
     "inputWidgets": {},
     "nuid": "874db3a0-88f7-453e-9ae4-e86b04c568cb",
     "showTitle": false,
     "title": ""
    }
   },
   "outputs": [
    {
     "name": "stdout",
     "output_type": "stream",
     "text": [
      "Calculation complete: 16186 lines in the output\n"
     ]
    },
    {
     "data": {
      "text/html": [
       "<div>\n",
       "<style scoped>\n",
       "    .dataframe tbody tr th:only-of-type {\n",
       "        vertical-align: middle;\n",
       "    }\n",
       "\n",
       "    .dataframe tbody tr th {\n",
       "        vertical-align: top;\n",
       "    }\n",
       "\n",
       "    .dataframe thead th {\n",
       "        text-align: right;\n",
       "    }\n",
       "</style>\n",
       "<table border=\"1\" class=\"dataframe\">\n",
       "  <thead>\n",
       "    <tr style=\"text-align: right;\">\n",
       "      <th></th>\n",
       "      <th>sku_id</th>\n",
       "      <th>batch_id</th>\n",
       "      <th>pallet_id</th>\n",
       "      <th>expiration_date</th>\n",
       "      <th>discardment_date</th>\n",
       "      <th>remaining_qty</th>\n",
       "      <th>consumed_qty</th>\n",
       "      <th>dc</th>\n",
       "      <th>location</th>\n",
       "      <th>category</th>\n",
       "      <th>...</th>\n",
       "      <th>line_cost</th>\n",
       "      <th>type</th>\n",
       "      <th>hf_week</th>\n",
       "      <th>hf_week_out</th>\n",
       "      <th>temp_class</th>\n",
       "      <th>data_source</th>\n",
       "      <th>logical_mlor</th>\n",
       "      <th>mlor_source</th>\n",
       "      <th>snapshot_time</th>\n",
       "      <th>supplier_code</th>\n",
       "    </tr>\n",
       "  </thead>\n",
       "  <tbody>\n",
       "    <tr>\n",
       "      <th>0</th>\n",
       "      <td>C_1-10344</td>\n",
       "      <td>NaN</td>\n",
       "      <td>id_493476</td>\n",
       "      <td>2025-02-24</td>\n",
       "      <td>2025-02-20</td>\n",
       "      <td>3213.0</td>\n",
       "      <td>6787.0</td>\n",
       "      <td>FI</td>\n",
       "      <td>NaN</td>\n",
       "      <td>C_1</td>\n",
       "      <td>...</td>\n",
       "      <td>3148.74</td>\n",
       "      <td>Ingredient SKU</td>\n",
       "      <td>2025-W08</td>\n",
       "      <td>3</td>\n",
       "      <td>a1</td>\n",
       "      <td>po</td>\n",
       "      <td>84.0</td>\n",
       "      <td>fixed_value_MLOR</td>\n",
       "      <td>NaT</td>\n",
       "      <td>s_5230</td>\n",
       "    </tr>\n",
       "    <tr>\n",
       "      <th>1</th>\n",
       "      <td>C_1-10344</td>\n",
       "      <td>NaN</td>\n",
       "      <td>id_211571</td>\n",
       "      <td>2025-05-02</td>\n",
       "      <td>2025-04-28</td>\n",
       "      <td>200.0</td>\n",
       "      <td>0.0</td>\n",
       "      <td>FI</td>\n",
       "      <td>loc-2115</td>\n",
       "      <td>C_1</td>\n",
       "      <td>...</td>\n",
       "      <td>196.00</td>\n",
       "      <td>Ingredient SKU</td>\n",
       "      <td>2025-W18</td>\n",
       "      <td>3</td>\n",
       "      <td>a1</td>\n",
       "      <td>in</td>\n",
       "      <td>NaN</td>\n",
       "      <td>NaN</td>\n",
       "      <td>2024-11-19 23:45:04.657</td>\n",
       "      <td>NaN</td>\n",
       "    </tr>\n",
       "    <tr>\n",
       "      <th>2</th>\n",
       "      <td>C_1-10344</td>\n",
       "      <td>NaN</td>\n",
       "      <td>id_211648</td>\n",
       "      <td>2025-05-02</td>\n",
       "      <td>2025-04-28</td>\n",
       "      <td>1200.0</td>\n",
       "      <td>0.0</td>\n",
       "      <td>FI</td>\n",
       "      <td>loc-1818</td>\n",
       "      <td>C_1</td>\n",
       "      <td>...</td>\n",
       "      <td>1176.00</td>\n",
       "      <td>Ingredient SKU</td>\n",
       "      <td>2025-W18</td>\n",
       "      <td>3</td>\n",
       "      <td>a1</td>\n",
       "      <td>in</td>\n",
       "      <td>NaN</td>\n",
       "      <td>NaN</td>\n",
       "      <td>2024-11-19 23:45:04.657</td>\n",
       "      <td>NaN</td>\n",
       "    </tr>\n",
       "    <tr>\n",
       "      <th>3</th>\n",
       "      <td>C_1-10344</td>\n",
       "      <td>NaN</td>\n",
       "      <td>id_871980</td>\n",
       "      <td>2025-05-02</td>\n",
       "      <td>2025-04-28</td>\n",
       "      <td>5.0</td>\n",
       "      <td>0.0</td>\n",
       "      <td>FI</td>\n",
       "      <td>loc-6725</td>\n",
       "      <td>C_1</td>\n",
       "      <td>...</td>\n",
       "      <td>4.90</td>\n",
       "      <td>Ingredient SKU</td>\n",
       "      <td>2025-W18</td>\n",
       "      <td>3</td>\n",
       "      <td>a1</td>\n",
       "      <td>in</td>\n",
       "      <td>NaN</td>\n",
       "      <td>NaN</td>\n",
       "      <td>2024-11-19 23:45:04.657</td>\n",
       "      <td>NaN</td>\n",
       "    </tr>\n",
       "    <tr>\n",
       "      <th>4</th>\n",
       "      <td>C_1-10344</td>\n",
       "      <td>NaN</td>\n",
       "      <td>id_915969</td>\n",
       "      <td>2025-05-02</td>\n",
       "      <td>2025-04-28</td>\n",
       "      <td>8.0</td>\n",
       "      <td>0.0</td>\n",
       "      <td>FI</td>\n",
       "      <td>loc-6769</td>\n",
       "      <td>C_1</td>\n",
       "      <td>...</td>\n",
       "      <td>7.84</td>\n",
       "      <td>Ingredient SKU</td>\n",
       "      <td>2025-W18</td>\n",
       "      <td>3</td>\n",
       "      <td>a1</td>\n",
       "      <td>in</td>\n",
       "      <td>NaN</td>\n",
       "      <td>NaN</td>\n",
       "      <td>2024-11-19 23:45:04.657</td>\n",
       "      <td>NaN</td>\n",
       "    </tr>\n",
       "  </tbody>\n",
       "</table>\n",
       "<p>5 rows × 21 columns</p>\n",
       "</div>"
      ],
      "text/plain": [
       "      sku_id  batch_id  pallet_id expiration_date discardment_date  \\\n",
       "0  C_1-10344       NaN  id_493476      2025-02-24       2025-02-20   \n",
       "1  C_1-10344       NaN  id_211571      2025-05-02       2025-04-28   \n",
       "2  C_1-10344       NaN  id_211648      2025-05-02       2025-04-28   \n",
       "3  C_1-10344       NaN  id_871980      2025-05-02       2025-04-28   \n",
       "4  C_1-10344       NaN  id_915969      2025-05-02       2025-04-28   \n",
       "\n",
       "   remaining_qty  consumed_qty  dc  location category  ...  line_cost  \\\n",
       "0         3213.0        6787.0  FI       NaN      C_1  ...    3148.74   \n",
       "1          200.0           0.0  FI  loc-2115      C_1  ...     196.00   \n",
       "2         1200.0           0.0  FI  loc-1818      C_1  ...    1176.00   \n",
       "3            5.0           0.0  FI  loc-6725      C_1  ...       4.90   \n",
       "4            8.0           0.0  FI  loc-6769      C_1  ...       7.84   \n",
       "\n",
       "             type   hf_week hf_week_out  temp_class data_source logical_mlor  \\\n",
       "0  Ingredient SKU  2025-W08           3          a1          po         84.0   \n",
       "1  Ingredient SKU  2025-W18           3          a1          in          NaN   \n",
       "2  Ingredient SKU  2025-W18           3          a1          in          NaN   \n",
       "3  Ingredient SKU  2025-W18           3          a1          in          NaN   \n",
       "4  Ingredient SKU  2025-W18           3          a1          in          NaN   \n",
       "\n",
       "        mlor_source           snapshot_time supplier_code  \n",
       "0  fixed_value_MLOR                     NaT        s_5230  \n",
       "1               NaN 2024-11-19 23:45:04.657           NaN  \n",
       "2               NaN 2024-11-19 23:45:04.657           NaN  \n",
       "3               NaN 2024-11-19 23:45:04.657           NaN  \n",
       "4               NaN 2024-11-19 23:45:04.657           NaN  \n",
       "\n",
       "[5 rows x 21 columns]"
      ]
     },
     "metadata": {},
     "output_type": "display_data"
    }
   ],
   "source": [
    "# Calculate FEFO\n",
    "calc_df = calculate_fefo(forecast_df, stock_df)\n",
    "\n",
    "# Print an output for verification\n",
    "print(\"Calculation complete: \" + str(len(calc_df)) + \" lines in the output\")\n",
    "\n",
    "display(calc_df.head(5))"
   ]
  },
  {
   "cell_type": "markdown",
   "metadata": {},
   "source": [
    "# Quick Visualizations | Load to DWH"
   ]
  },
  {
   "cell_type": "markdown",
   "metadata": {},
   "source": [
    "In the original notebook, the _calc_df_ dataframe would be loaded to the DWH for visualization in Tableau and for teams to consume and query the data. However, in this version of the notebook, just for display purposes a few aggregations and pivots have been created to display what the result is like."
   ]
  },
  {
   "cell_type": "markdown",
   "metadata": {
    "application/vnd.databricks.v1+cell": {
     "cellMetadata": {
      "byteLimit": 2048000,
      "rowLimit": 10000
     },
     "inputWidgets": {},
     "nuid": "edd09c67-7ae7-4cab-b671-e22971ce6f14",
     "showTitle": false,
     "title": ""
    }
   },
   "source": [
    "## Aggregations"
   ]
  },
  {
   "cell_type": "code",
   "execution_count": 22,
   "metadata": {
    "application/vnd.databricks.v1+cell": {
     "cellMetadata": {
      "byteLimit": 2048000,
      "rowLimit": 10000
     },
     "collapsed": true,
     "inputWidgets": {},
     "nuid": "04d288de-3b42-492e-bf00-2f22d85060c4",
     "showTitle": false,
     "title": ""
    }
   },
   "outputs": [],
   "source": [
    "# Define the weeks you want to filter for\n",
    "window_1_3 = [1, 2, 3]  # Weeks 1-24\n",
    "window_1_2 = [1, 2]  # Weeks 1-12\n",
    "window_2 = [2]  # Weeks 7-12\n",
    "\n",
    "# Define the mapping from HF Week Out to the desired name\n",
    "hf_week_out_mapping = {\n",
    "    0: 'W <0',\n",
    "    1: 'W 01-06',\n",
    "    2: 'W 07-12',\n",
    "    3: 'W 13-24',\n",
    "    4: 'W > 24'\n",
    "}\n",
    "\n",
    "# Map the HF Week Out to the desired names\n",
    "calc_df['HF Week Out Name'] = calc_df['hf_week_out'].map(hf_week_out_mapping)"
   ]
  },
  {
   "cell_type": "markdown",
   "metadata": {},
   "source": [
    "### Table that shows aggregate sum of Cost by Category and Window"
   ]
  },
  {
   "cell_type": "code",
   "execution_count": 23,
   "metadata": {},
   "outputs": [
    {
     "data": {
      "text/html": [
       "<div>\n",
       "<style scoped>\n",
       "    .dataframe tbody tr th:only-of-type {\n",
       "        vertical-align: middle;\n",
       "    }\n",
       "\n",
       "    .dataframe tbody tr th {\n",
       "        vertical-align: top;\n",
       "    }\n",
       "\n",
       "    .dataframe thead th {\n",
       "        text-align: right;\n",
       "    }\n",
       "</style>\n",
       "<table border=\"1\" class=\"dataframe\">\n",
       "  <thead>\n",
       "    <tr style=\"text-align: right;\">\n",
       "      <th>dc</th>\n",
       "      <th>category</th>\n",
       "      <th>HF Week Out Name</th>\n",
       "      <th>FI</th>\n",
       "      <th>PI</th>\n",
       "    </tr>\n",
       "  </thead>\n",
       "  <tbody>\n",
       "    <tr>\n",
       "      <th>0</th>\n",
       "      <td>C_1</td>\n",
       "      <td>W 01-06</td>\n",
       "      <td>18815.8531</td>\n",
       "      <td>11468.2945</td>\n",
       "    </tr>\n",
       "    <tr>\n",
       "      <th>3</th>\n",
       "      <td>C_2</td>\n",
       "      <td>W 01-06</td>\n",
       "      <td>17656.1210</td>\n",
       "      <td>565.5600</td>\n",
       "    </tr>\n",
       "    <tr>\n",
       "      <th>5</th>\n",
       "      <td>C_3</td>\n",
       "      <td>W 01-06</td>\n",
       "      <td>32709.2661</td>\n",
       "      <td>44109.5082</td>\n",
       "    </tr>\n",
       "    <tr>\n",
       "      <th>8</th>\n",
       "      <td>C_4</td>\n",
       "      <td>W 01-06</td>\n",
       "      <td>27825.4802</td>\n",
       "      <td>25876.3613</td>\n",
       "    </tr>\n",
       "    <tr>\n",
       "      <th>11</th>\n",
       "      <td>C_5</td>\n",
       "      <td>W 01-06</td>\n",
       "      <td>68783.3367</td>\n",
       "      <td>23312.8275</td>\n",
       "    </tr>\n",
       "  </tbody>\n",
       "</table>\n",
       "</div>"
      ],
      "text/plain": [
       "dc category HF Week Out Name          FI          PI\n",
       "0       C_1          W 01-06  18815.8531  11468.2945\n",
       "3       C_2          W 01-06  17656.1210    565.5600\n",
       "5       C_3          W 01-06  32709.2661  44109.5082\n",
       "8       C_4          W 01-06  27825.4802  25876.3613\n",
       "11      C_5          W 01-06  68783.3367  23312.8275"
      ]
     },
     "metadata": {},
     "output_type": "display_data"
    }
   ],
   "source": [
    "# Filter the DataFrame for the specific HF Week values\n",
    "window_1_3_df = calc_df[calc_df['hf_week_out'].isin(window_1_3)]\n",
    "\n",
    "# Pivot the table to have DC as columns, aggregating the sum of Line Cost\n",
    "category_agg_window_df = window_1_3_df.pivot_table(index=['category', 'HF Week Out Name'], columns='dc', values='line_cost', aggfunc='sum', fill_value=0).reset_index()\n",
    "\n",
    "# Sort the pivoted DataFrame by 'Category' and 'HF Week Out Name'\n",
    "category_agg_window_df = category_agg_window_df.sort_values(by=['HF Week Out Name', 'category'])\n",
    "\n",
    "display(category_agg_window_df.head(5))"
   ]
  },
  {
   "cell_type": "markdown",
   "metadata": {},
   "source": [
    "### Table that shows aggregate sum of Cost by Category, weekly"
   ]
  },
  {
   "cell_type": "code",
   "execution_count": 24,
   "metadata": {},
   "outputs": [
    {
     "data": {
      "text/html": [
       "<div>\n",
       "<style scoped>\n",
       "    .dataframe tbody tr th:only-of-type {\n",
       "        vertical-align: middle;\n",
       "    }\n",
       "\n",
       "    .dataframe tbody tr th {\n",
       "        vertical-align: top;\n",
       "    }\n",
       "\n",
       "    .dataframe thead th {\n",
       "        text-align: right;\n",
       "    }\n",
       "</style>\n",
       "<table border=\"1\" class=\"dataframe\">\n",
       "  <thead>\n",
       "    <tr style=\"text-align: right;\">\n",
       "      <th>hf_week</th>\n",
       "      <th>dc</th>\n",
       "      <th>category</th>\n",
       "      <th>2024-W47</th>\n",
       "      <th>2024-W48</th>\n",
       "      <th>2024-W49</th>\n",
       "      <th>2024-W50</th>\n",
       "      <th>2024-W51</th>\n",
       "      <th>2024-W52</th>\n",
       "      <th>2025-W01</th>\n",
       "      <th>2025-W02</th>\n",
       "      <th>2025-W03</th>\n",
       "      <th>2025-W04</th>\n",
       "      <th>2025-W05</th>\n",
       "      <th>2025-W06</th>\n",
       "    </tr>\n",
       "  </thead>\n",
       "  <tbody>\n",
       "    <tr>\n",
       "      <th>0</th>\n",
       "      <td>FI</td>\n",
       "      <td>C_1</td>\n",
       "      <td>3913.0879</td>\n",
       "      <td>2929.0900</td>\n",
       "      <td>4493.8052</td>\n",
       "      <td>508.0800</td>\n",
       "      <td>5599.5000</td>\n",
       "      <td>1372.2900</td>\n",
       "      <td>0.000</td>\n",
       "      <td>889.2000</td>\n",
       "      <td>0.000</td>\n",
       "      <td>1261.2600</td>\n",
       "      <td>0.0</td>\n",
       "      <td>0.0</td>\n",
       "    </tr>\n",
       "    <tr>\n",
       "      <th>1</th>\n",
       "      <td>FI</td>\n",
       "      <td>C_2</td>\n",
       "      <td>1293.9090</td>\n",
       "      <td>4644.1520</td>\n",
       "      <td>8245.5100</td>\n",
       "      <td>1154.2000</td>\n",
       "      <td>0.0000</td>\n",
       "      <td>2318.3500</td>\n",
       "      <td>0.000</td>\n",
       "      <td>0.0000</td>\n",
       "      <td>0.000</td>\n",
       "      <td>0.0000</td>\n",
       "      <td>0.0</td>\n",
       "      <td>0.0</td>\n",
       "    </tr>\n",
       "    <tr>\n",
       "      <th>2</th>\n",
       "      <td>FI</td>\n",
       "      <td>C_3</td>\n",
       "      <td>3124.8279</td>\n",
       "      <td>5499.2269</td>\n",
       "      <td>5482.7496</td>\n",
       "      <td>5130.1653</td>\n",
       "      <td>8024.0522</td>\n",
       "      <td>5448.2442</td>\n",
       "      <td>11719.331</td>\n",
       "      <td>9483.2432</td>\n",
       "      <td>16932.669</td>\n",
       "      <td>4118.0211</td>\n",
       "      <td>0.0</td>\n",
       "      <td>0.0</td>\n",
       "    </tr>\n",
       "    <tr>\n",
       "      <th>3</th>\n",
       "      <td>FI</td>\n",
       "      <td>C_4</td>\n",
       "      <td>8632.9300</td>\n",
       "      <td>6761.8810</td>\n",
       "      <td>138.5376</td>\n",
       "      <td>7570.7336</td>\n",
       "      <td>3365.0100</td>\n",
       "      <td>1356.3880</td>\n",
       "      <td>1449.660</td>\n",
       "      <td>3.6456</td>\n",
       "      <td>0.000</td>\n",
       "      <td>991.0740</td>\n",
       "      <td>0.0</td>\n",
       "      <td>0.0</td>\n",
       "    </tr>\n",
       "    <tr>\n",
       "      <th>4</th>\n",
       "      <td>FI</td>\n",
       "      <td>C_5</td>\n",
       "      <td>66852.4167</td>\n",
       "      <td>1930.9200</td>\n",
       "      <td>0.0000</td>\n",
       "      <td>0.0000</td>\n",
       "      <td>0.0000</td>\n",
       "      <td>0.0000</td>\n",
       "      <td>0.000</td>\n",
       "      <td>0.0000</td>\n",
       "      <td>0.000</td>\n",
       "      <td>0.0000</td>\n",
       "      <td>0.0</td>\n",
       "      <td>0.0</td>\n",
       "    </tr>\n",
       "  </tbody>\n",
       "</table>\n",
       "</div>"
      ],
      "text/plain": [
       "hf_week  dc category    2024-W47   2024-W48   2024-W49   2024-W50   2024-W51  \\\n",
       "0        FI      C_1   3913.0879  2929.0900  4493.8052   508.0800  5599.5000   \n",
       "1        FI      C_2   1293.9090  4644.1520  8245.5100  1154.2000     0.0000   \n",
       "2        FI      C_3   3124.8279  5499.2269  5482.7496  5130.1653  8024.0522   \n",
       "3        FI      C_4   8632.9300  6761.8810   138.5376  7570.7336  3365.0100   \n",
       "4        FI      C_5  66852.4167  1930.9200     0.0000     0.0000     0.0000   \n",
       "\n",
       "hf_week   2024-W52   2025-W01   2025-W02   2025-W03   2025-W04  2025-W05  \\\n",
       "0        1372.2900      0.000   889.2000      0.000  1261.2600       0.0   \n",
       "1        2318.3500      0.000     0.0000      0.000     0.0000       0.0   \n",
       "2        5448.2442  11719.331  9483.2432  16932.669  4118.0211       0.0   \n",
       "3        1356.3880   1449.660     3.6456      0.000   991.0740       0.0   \n",
       "4           0.0000      0.000     0.0000      0.000     0.0000       0.0   \n",
       "\n",
       "hf_week  2025-W06  \n",
       "0             0.0  \n",
       "1             0.0  \n",
       "2             0.0  \n",
       "3             0.0  \n",
       "4             0.0  "
      ]
     },
     "metadata": {},
     "output_type": "display_data"
    }
   ],
   "source": [
    "# Filter the DataFrame for the specific HF Week values\n",
    "window_1_2_df = calc_df[calc_df['hf_week_out'].isin(window_1_2)]\n",
    "\n",
    "# Pivot the table to have DC as columns, aggregating the sum of Line Cost\n",
    "category_agg_weekly_df = window_1_2_df.pivot_table(index=['dc', 'category'], columns='hf_week', values='line_cost', aggfunc='sum', fill_value=0).reset_index()\n",
    "\n",
    "# Sort the pivoted DataFrame by 'Category' and 'HF Week Out Name'\n",
    "category_agg_weekly_df = category_agg_weekly_df.sort_values(by=['dc', 'category'])\n",
    "\n",
    "display(category_agg_weekly_df.head(5))"
   ]
  },
  {
   "cell_type": "markdown",
   "metadata": {
    "application/vnd.databricks.v1+cell": {
     "cellMetadata": {
      "byteLimit": 2048000,
      "rowLimit": 10000
     },
     "inputWidgets": {},
     "nuid": "ca76bc8c-32e3-444c-8c20-2b9bef03edb7",
     "showTitle": false,
     "title": ""
    }
   },
   "source": [
    "### create Top Drivers dataframe"
   ]
  },
  {
   "cell_type": "code",
   "execution_count": 25,
   "metadata": {
    "application/vnd.databricks.v1+cell": {
     "cellMetadata": {
      "byteLimit": 2048000,
      "rowLimit": 10000
     },
     "inputWidgets": {},
     "nuid": "cc3df9c1-4791-4f42-bcb5-2a1bb05cf187",
     "showTitle": false,
     "title": ""
    }
   },
   "outputs": [
    {
     "data": {
      "text/html": [
       "<div>\n",
       "<style scoped>\n",
       "    .dataframe tbody tr th:only-of-type {\n",
       "        vertical-align: middle;\n",
       "    }\n",
       "\n",
       "    .dataframe tbody tr th {\n",
       "        vertical-align: top;\n",
       "    }\n",
       "\n",
       "    .dataframe thead th {\n",
       "        text-align: right;\n",
       "    }\n",
       "</style>\n",
       "<table border=\"1\" class=\"dataframe\">\n",
       "  <thead>\n",
       "    <tr style=\"text-align: right;\">\n",
       "      <th></th>\n",
       "      <th>sku_id</th>\n",
       "      <th>dc</th>\n",
       "      <th>hf_week</th>\n",
       "      <th>line_cost</th>\n",
       "    </tr>\n",
       "  </thead>\n",
       "  <tbody>\n",
       "    <tr>\n",
       "      <th>0</th>\n",
       "      <td>C_1-10344</td>\n",
       "      <td>FI</td>\n",
       "      <td>2025-W08</td>\n",
       "      <td>3148.740</td>\n",
       "    </tr>\n",
       "    <tr>\n",
       "      <th>5</th>\n",
       "      <td>C_1-10344</td>\n",
       "      <td>PI</td>\n",
       "      <td>2025-W16</td>\n",
       "      <td>4893.140</td>\n",
       "    </tr>\n",
       "    <tr>\n",
       "      <th>6</th>\n",
       "      <td>C_1-10344</td>\n",
       "      <td>PI</td>\n",
       "      <td>2025-W17</td>\n",
       "      <td>4900.000</td>\n",
       "    </tr>\n",
       "    <tr>\n",
       "      <th>13</th>\n",
       "      <td>C_1-10415</td>\n",
       "      <td>PI</td>\n",
       "      <td>2025-W35</td>\n",
       "      <td>6646.320</td>\n",
       "    </tr>\n",
       "    <tr>\n",
       "      <th>15</th>\n",
       "      <td>C_1-10429</td>\n",
       "      <td>PI</td>\n",
       "      <td>2025-W35</td>\n",
       "      <td>3664.625</td>\n",
       "    </tr>\n",
       "  </tbody>\n",
       "</table>\n",
       "</div>"
      ],
      "text/plain": [
       "       sku_id  dc   hf_week  line_cost\n",
       "0   C_1-10344  FI  2025-W08   3148.740\n",
       "5   C_1-10344  PI  2025-W16   4893.140\n",
       "6   C_1-10344  PI  2025-W17   4900.000\n",
       "13  C_1-10415  PI  2025-W35   6646.320\n",
       "15  C_1-10429  PI  2025-W35   3664.625"
      ]
     },
     "metadata": {},
     "output_type": "display_data"
    }
   ],
   "source": [
    "# Grouping the data and aggregating\n",
    "aggregated_data = calc_df\\\n",
    "    .groupby(['sku_id', 'dc', 'hf_week'])\\\n",
    "    .agg({'line_cost': 'sum'})\\\n",
    "    .reset_index()\n",
    "\n",
    "# Filtering the aggregated results\n",
    "top_waste = aggregated_data[aggregated_data['line_cost'] > 3000]\n",
    "\n",
    "display(top_waste.head(5))"
   ]
  },
  {
   "cell_type": "markdown",
   "metadata": {},
   "source": [
    "End of notebook."
   ]
  }
 ],
 "metadata": {
  "application/vnd.databricks.v1+notebook": {
   "dashboards": [],
   "environmentMetadata": null,
   "language": "python",
   "notebookMetadata": {
    "pythonIndentUnit": 2
   },
   "notebookName": "fefo_waste_projection_workflow",
   "widgets": {}
  },
  "kernelspec": {
   "display_name": "Python 3 (ipykernel)",
   "language": "python",
   "name": "python3"
  },
  "language_info": {
   "codemirror_mode": {
    "name": "ipython",
    "version": 3
   },
   "file_extension": ".py",
   "mimetype": "text/x-python",
   "name": "python",
   "nbconvert_exporter": "python",
   "pygments_lexer": "ipython3",
   "version": "3.13.0"
  }
 },
 "nbformat": 4,
 "nbformat_minor": 4
}
